{
 "cells": [
  {
   "cell_type": "markdown",
   "id": "136a91bc",
   "metadata": {},
   "source": [
    "**Aim 1: Classify countries by endemicity status.**\n",
    "\n",
    "*CPSC 581: Machine Learning*\n",
    "\n",
    "*Yale University*\n",
    "\n",
    "*Instructor: Alex Wong*\n",
    "\n",
    "*Student: Hailey Robertson*"
   ]
  },
  {
   "cell_type": "markdown",
   "id": "d7c7b335",
   "metadata": {},
   "source": [
    "Import packages"
   ]
  },
  {
   "cell_type": "code",
   "execution_count": 41,
   "id": "1065aeb7",
   "metadata": {},
   "outputs": [],
   "source": [
    "import numpy as np\n",
    "import sklearn\n",
    "import matplotlib\n",
    "import pandas as pd\n",
    "import geopandas as gpd\n",
    "from shapely.geometry import MultiPolygon \n",
    "from shapely.geometry.base import BaseGeometry \n",
    "import country_converter as coco\n",
    "import warnings\n",
    "import os\n",
    "\n",
    "warnings.filterwarnings(action='ignore')\n",
    "np.random.seed(42)"
   ]
  },
  {
   "cell_type": "markdown",
   "id": "b503534c",
   "metadata": {},
   "source": [
    "Load data function"
   ]
  },
  {
   "cell_type": "markdown",
   "id": "6be54bd8",
   "metadata": {},
   "source": [
    "Clean Open Dengue data"
   ]
  },
  {
   "cell_type": "code",
   "execution_count": null,
   "id": "cb7e2d19",
   "metadata": {},
   "outputs": [
    {
     "name": "stdout",
     "output_type": "stream",
     "text": [
      "No missing ISO3 codes!\n",
      "Number of unique ISO3 codes: 47\n",
      "UN Regions: ['Other' 'Asia' 'Europe' 'Africa']\n"
     ]
    }
   ],
   "source": [
    "# --- Load dengue data ---\n",
    "open_dengue = pd.read_csv('../data/open_dengue_v1_2.csv')\n",
    "\n",
    "# Standardize country names to ISO3\n",
    "open_dengue[\"adm_0_iso3\"] = coco.convert(\n",
    "    names=open_dengue[\"adm_0_name\"],\n",
    "    to='ISO3',\n",
    "    not_found=\"missing\"\n",
    ")\n",
    "\n",
    "# Convert date columns to datetime\n",
    "date_cols = ['calendar_start_date', 'calendar_end_date']\n",
    "open_dengue[date_cols] = open_dengue[date_cols].apply(pd.to_datetime)\n",
    "\n",
    "# Report missing ISO3 codes\n",
    "missing_iso3 = open_dengue[open_dengue[\"adm_0_iso3\"] == \"missing\"]\n",
    "if missing_iso3.empty:\n",
    "    print(\"No missing ISO3 codes!\")\n",
    "else:\n",
    "    print(\"Missing ISO3 codes for the following entries:\")\n",
    "    print(missing_iso3[[\"adm_0_name\"]].drop_duplicates())\n",
    "\n",
    "# --- Load world geometry ---\n",
    "world = gpd.read_file(\"../data/ne_110m_admin_0_countries\")\n",
    "\n",
    "# Rename and select necessary columns\n",
    "world = world.rename(columns={\n",
    "    \"ADM0_A3\": \"adm_0_iso3\",\n",
    "    \"ADMIN\": \"adm_0_name\",\n",
    "    \"REGION_UN\": \"region_un\",\n",
    "    \"geometry\": \"adm_0_geometry\"\n",
    "})[[\"adm_0_iso3\", \"adm_0_name\", \"region_un\", \"adm_0_geometry\"]]\n",
    "\n",
    "# Sort for consistency\n",
    "world = world.sort_values(by=\"adm_0_name\")\n",
    "\n",
    "# --- Fix known issues ---\n",
    "# Split out French Guiana from France\n",
    "france_idx = world['adm_0_name'] == 'France'\n",
    "france_geom = world.loc[france_idx, 'adm_0_geometry'].values[0]\n",
    "\n",
    "if isinstance(france_geom, MultiPolygon):\n",
    "    polygons = list(france_geom.geoms)\n",
    "    french_guiana_polygon = next((poly for poly in polygons if poly.bounds[0] < -50 and poly.bounds[2] > -54), None)\n",
    "\n",
    "    if french_guiana_polygon:\n",
    "        # Remove French Guiana from France\n",
    "        remaining_polygons = [poly for poly in polygons if poly != french_guiana_polygon]\n",
    "        world.loc[france_idx, 'adm_0_geometry'] = MultiPolygon(remaining_polygons)\n",
    "\n",
    "        # Add French Guiana as separate entry\n",
    "        french_guiana_row = {\n",
    "            'adm_0_iso3': 'GUF',\n",
    "            'adm_0_name': 'French Guiana',\n",
    "            'region_un': 'Americas',\n",
    "            'adm_0_geometry': french_guiana_polygon\n",
    "        }\n",
    "        world = pd.concat([world, gpd.GeoDataFrame([french_guiana_row], geometry='adm_0_geometry')], ignore_index=True)\n",
    "\n",
    "# Patch ISO3 codes for special cases\n",
    "world.loc[world['adm_0_name'] == 'Norway', 'adm_0_iso3'] = 'NOR'\n",
    "world.loc[world['adm_0_name'] == 'Somaliland', 'adm_0_iso3'] = 'SOM'\n",
    "world.loc[world['adm_0_name'] == 'Kosovo', 'adm_0_iso3'] = 'RKS'\n",
    "world.loc[world['adm_0_name'] == 'South Sudan', 'adm_0_iso3'] = 'SSD'\n",
    "\n",
    "# --- Merge dengue data with geometry ---\n",
    "dengue = pd.merge(open_dengue, world, on='adm_0_iso3', how='outer', suffixes=('', '_world'))\n",
    "\n",
    "# If adm_0_name is missing in dengue, fill with name from world\n",
    "dengue['adm_0_name'] = dengue['adm_0_name'].fillna(dengue['adm_0_name_world'])\n",
    "\n",
    "# Same for region_un and geometry\n",
    "dengue['region_un'] = dengue['region_un'].fillna(dengue['region_un_world'])\n",
    "dengue['adm_0_geometry'] = dengue['adm_0_geometry'].fillna(dengue['adm_0_geometry_world'])\n",
    "\n",
    "# Drop duplicate _world columns\n",
    "dengue = dengue.drop(columns=['adm_0_name_world', 'region_un_world', 'adm_0_geometry_world'])\n",
    "\n",
    "# Reorder columns nicely\n",
    "front_cols = ['adm_0_name', 'adm_0_iso3']\n",
    "geometry_col = ['adm_0_geometry']\n",
    "other_cols = [col for col in dengue.columns if col not in front_cols + geometry_col]\n",
    "dengue = dengue[front_cols + other_cols + geometry_col]\n",
    "\n",
    "\n",
    "# --- Final summary ---\n",
    "print(\"Number of unique ISO3 codes:\", dengue['adm_0_iso3'].nunique())\n",
    "print(\"UN Regions:\", dengue['region_un'].dropna().unique())\n",
    "print(\"Columns:\", dengue.columns.tolist())\n"
   ]
  },
  {
   "cell_type": "code",
   "execution_count": null,
   "id": "d7e874ee",
   "metadata": {},
   "outputs": [],
   "source": []
  }
 ],
 "metadata": {
  "kernelspec": {
   "display_name": "venv",
   "language": "python",
   "name": "python3"
  },
  "language_info": {
   "codemirror_mode": {
    "name": "ipython",
    "version": 3
   },
   "file_extension": ".py",
   "mimetype": "text/x-python",
   "name": "python",
   "nbconvert_exporter": "python",
   "pygments_lexer": "ipython3",
   "version": "3.12.9"
  }
 },
 "nbformat": 4,
 "nbformat_minor": 5
}
