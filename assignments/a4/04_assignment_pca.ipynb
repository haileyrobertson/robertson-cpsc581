{
  "cells": [
    {
      "cell_type": "markdown",
      "metadata": {
        "id": "_0fsGaVMMpwG"
      },
      "source": [
        "**Assignment 4: Principal Component Analysis**\n",
        "\n",
        "*CPSC 381/581: Machine Learning*\n",
        "\n",
        "*Yale University*\n",
        "\n",
        "*Instructor: Alex Wong*\n",
        "\n",
        "*Student: Hailey Robertson*\n",
        "\n",
        "\n",
        "**Prerequisites**:\n",
        "\n",
        "1. Enable Google Colaboratory as an app on your Google Drive account\n",
        "\n",
        "2. Create a new Google Colab notebook, this will also create a \"Colab Notebooks\" directory under \"MyDrive\" i.e.\n",
        "```\n",
        "/content/drive/MyDrive/Colab Notebooks\n",
        "```\n",
        "\n",
        "3. Create the following directory structure in your Google Drive\n",
        "```\n",
        "/content/drive/MyDrive/Colab Notebooks/CPSC 381-581: Machine Learning/Assignments\n",
        "```\n",
        "\n",
        "4. Move the 04_assignment_pca.ipynb into\n",
        "```\n",
        "/content/drive/MyDrive/Colab Notebooks/CPSC 381-581: Machine Learning/Assignments\n",
        "```\n",
        "so that its absolute path is\n",
        "```\n",
        "/content/drive/MyDrive/Colab Notebooks/CPSC 381-581: Machine Learning/Assignments/04_assignment_pca.ipynb\n",
        "```\n",
        "\n",
        "In this assignment, we will use principal component analysis (PCA) to compress data. We will first train PCA to find the linear transformation that will preserve variance within a dataset. We will measure loss by reconstruction. We will also use PCA to synthesize new examples.\n",
        "\n",
        "We will work with two datasets: the handwritten digits dataset and the Olivetti faces dataset, to explore how PCA performs on different types of image data.\n",
        "\n",
        "\n",
        "**Submission**:\n",
        "\n",
        "1. Implement all TODOs in the code blocks below.\n",
        "\n",
        "2. List any collaborators.\n",
        "\n",
        "```\n",
        "Collaborators: None.\n",
        "```"
      ]
    },
    {
      "cell_type": "markdown",
      "metadata": {
        "id": "wxeZsiCGC0J8"
      },
      "source": [
        "Import packages"
      ]
    },
    {
      "cell_type": "code",
      "execution_count": 1,
      "metadata": {
        "id": "uumvcyiQ-k21"
      },
      "outputs": [],
      "source": [
        "import numpy as np\n",
        "import sklearn.datasets as skdata\n",
        "import sklearn.metrics as skmetrics\n",
        "import matplotlib.pyplot as plt\n",
        "from mpl_toolkits.mplot3d import Axes3D\n",
        "import warnings\n",
        "\n",
        "warnings.filterwarnings(action='ignore')\n",
        "np.random.seed(42)  # Set a fixed seed for reproducibility"
      ]
    },
    {
      "cell_type": "markdown",
      "metadata": {
        "id": "Aq2bJ9CBM7v7"
      },
      "source": [
        "Plotting functions"
      ]
    },
    {
      "cell_type": "code",
      "execution_count": 2,
      "metadata": {
        "id": "y2-YKqs-MVPf"
      },
      "outputs": [],
      "source": [
        "def plot(x, y, title, xlabel, ylabel):\n",
        "    '''\n",
        "    Plots x against y with plot title\n",
        "\n",
        "    Arg(s):\n",
        "        x : numpy[float32]\n",
        "            array of values\n",
        "        y : numpy[float32]\n",
        "            array of values\n",
        "        title : str\n",
        "            (super)title of plot\n",
        "        xlabel : str\n",
        "            label of x axis\n",
        "        ylabel : str\n",
        "            label of y axis\n",
        "    '''\n",
        "\n",
        "    # Create a 1 x 1 figure\n",
        "    fig = plt.figure()\n",
        "    ax = fig.add_subplot(1, 1, 1)\n",
        "\n",
        "    # DONE: Plot y against x, set marker to 'o', color to 'b'\n",
        "    ax.plot(x, y, marker='o', color='b')\n",
        "\n",
        "    # DONE: Create super title for figure\n",
        "    fig.suptitle(title)\n",
        "\n",
        "    # DONE: Set x and y axis with labels\n",
        "    ax.set_xlabel(xlabel)\n",
        "    ax.set_ylabel(ylabel)\n",
        "\n",
        "\n",
        "def plot_images(X, n_row, n_col, title, cmap='gray'):\n",
        "    '''\n",
        "    Creates n_row by n_col panel of images\n",
        "\n",
        "    Args:\n",
        "        X : numpy[float32]\n",
        "            N x h x w numpy array\n",
        "        n_row : int\n",
        "            number of rows in figure\n",
        "        n_col : list[str]\n",
        "            number of columns in figure\n",
        "        title : str\n",
        "            title of plot\n",
        "        cmap : str\n",
        "            colormap to use for visualizing images\n",
        "    '''\n",
        "\n",
        "    fig = plt.figure(figsize=(10, 10))\n",
        "\n",
        "    # DONE: Set title as figure super title\n",
        "    fig.suptitle(title)\n",
        "\n",
        "\n",
        "    # DONE?: Iterate through X and plot the first n_row x n_col elements as figures\n",
        "    # visualize using the specified 'gray' colormap\n",
        "    # use plt.box(False) and plt.axis('off') to turn off borders and axis\n",
        "    for i in range(0, n_row * n_col):\n",
        "        ax = fig.add_subplot(n_row, n_col, i + 1)\n",
        "        ax.imshow(X[i], cmap='gray')\n",
        "        plt.box(False)\n",
        "        plt.axis('off')\n",
        "\n"
      ]
    },
    {
      "cell_type": "markdown",
      "metadata": {
        "id": "Ibd3k8JeQvHO"
      },
      "source": [
        "Implementation of Principal Component Analysis (PCA) for dimensionality reduction"
      ]
    },
    {
      "cell_type": "code",
      "execution_count": 3,
      "metadata": {
        "id": "yB29ajtrK8sQ"
      },
      "outputs": [],
      "source": [
        "class PrincipalComponentAnalysis(object):\n",
        "\n",
        "    def __init__(self, d):\n",
        "        # Number of eigenvectors to keep\n",
        "        self.__d = d\n",
        "\n",
        "        # Mean of the dataset\n",
        "        self.__mean = None\n",
        "\n",
        "        # Linear weights or transformation to project to lower subspace\n",
        "        self.__weights = None\n",
        "\n",
        "        # Eigenvalues of the dataset\n",
        "        self.__eigenvalues = None\n",
        "\n",
        "    def __center(self, X):\n",
        "        '''\n",
        "        Centers the data to zero-mean\n",
        "\n",
        "        Args:\n",
        "            X : numpy[float32]\n",
        "                N x D feature vectors\n",
        "        Returns:\n",
        "            numpy[float32] : N x D centered feature vectors\n",
        "        '''\n",
        "\n",
        "        # DONE: Center the data\n",
        "\n",
        "        return X - self.__mean\n",
        "\n",
        "    def __covariance_matrix(self, X):\n",
        "        '''\n",
        "        Computes the covariance matrix of feature vectors\n",
        "\n",
        "        Args:\n",
        "            X : numpy[float32]\n",
        "                N x D feature vectors\n",
        "        Returns:\n",
        "            numpy[float32] : D x D covariance matrix\n",
        "        '''\n",
        "\n",
        "        # DONE?: Compute the covariance matrix\n",
        "        N = X.shape[0]\n",
        "        return (1 / (N-1)) * np.dot(X.T, X)\n",
        "\n",
        "    def fit(self, X):\n",
        "        '''\n",
        "        Obtains the top d eigenvectors (weights) from the input feature vectors\n",
        "\n",
        "        Arg(s):\n",
        "            X : numpy[float32]\n",
        "                N x D feature vector\n",
        "        '''\n",
        "\n",
        "        # DONE?: Implement the fit function\n",
        "\n",
        "        # Make sure that d is less or equal D\n",
        "        assert self.__d <= X.shape[1]\n",
        "\n",
        "        # DONE: Compute mean\n",
        "        self.__mean = np.mean(X, axis=0)\n",
        "\n",
        "        # DONE: Compute the covariance matrix\n",
        "        X = self.__center(X)\n",
        "        cov = self.__covariance_matrix(X)\n",
        "\n",
        "\n",
        "        # DONE: Eigen decomposition\n",
        "        eigenvalues, eigenvectors = np.linalg.eig(cov)\n",
        "\n",
        "        # DONE?: Store the top d eigenvalues\n",
        "        self.__eigenvalues = eigenvalues[:self.__d]\n",
        "\n",
        "        # DONE?: Select the top d eigenvectors\n",
        "        self.__weights = eigenvectors[:, :self.__d]\n",
        "\n",
        "    def project_to_subspace(self, X):\n",
        "        '''\n",
        "        Project data X to lower dimension subspace using the top d eigenvectors\n",
        "\n",
        "        Arg(s):\n",
        "            X : numpy[float32]\n",
        "                N x D feature vectors\n",
        "        Returns:\n",
        "            numpy[float32] : N x d feature vectors\n",
        "        '''\n",
        "\n",
        "        # DONE: Computes transformation to lower dimension and project to subspace\n",
        "\n",
        "        return np.dot(X - self.__mean, self.__weights)\n",
        "\n",
        "    def get_eigenvalues(self):\n",
        "        '''\n",
        "        Returns eigenvalues\n",
        "\n",
        "        Returns:\n",
        "            numpy[float32] : eigenvalues\n",
        "        '''\n",
        "\n",
        "        return self.__eigenvalues\n",
        "\n",
        "    def get_weights(self):\n",
        "        '''\n",
        "        Returns weights (eigenvectors)\n",
        "\n",
        "        Returns:\n",
        "            numpy[float32] : weights\n",
        "        '''\n",
        "\n",
        "        return self.__weights\n",
        "\n",
        "    def get_mean(self):\n",
        "        '''\n",
        "        Returns mean\n",
        "\n",
        "        Returns:\n",
        "            numpy[float32] : mean\n",
        "        '''\n",
        "\n",
        "        return self.__mean\n",
        "\n",
        "    def reconstruct_from_subspace(self, Z):\n",
        "        '''\n",
        "        Reconstruct the original feature vectors from the latent vectors\n",
        "\n",
        "        Arg(s):\n",
        "            Z : numpy[float32]\n",
        "                N x d latent vectors\n",
        "        Returns:\n",
        "            numpy[float32] : N x D feature vectors\n",
        "        '''\n",
        "\n",
        "        # DONE: Reconstruct the original feature vector\n",
        "\n",
        "        return np.dot(Z, self.__weights.T) + self.__mean\n",
        "\n",
        "    def generate_new_samples(self, m):\n",
        "        '''\n",
        "        Generates new data points by sampling from a normal distribution\n",
        "\n",
        "        Arg(s):\n",
        "            m : int\n",
        "                number of samples to generate\n",
        "        Returns:\n",
        "            numpy[float32] : m x D samples\n",
        "        '''\n",
        "\n",
        "        # DONE: Generate new samples\n",
        "\n",
        "        return np.dot(np.random.randn(m, self.__d), self.__weights.T) + self.__mean"
      ]
    },
    {
      "cell_type": "markdown",
      "metadata": {
        "id": "part1_heading"
      },
      "source": [
        "## Part 1: Handwritten Digits Dataset"
      ]
    },
    {
      "cell_type": "markdown",
      "metadata": {
        "id": "l5ggjzpTsrjE"
      },
      "source": [
        "Load digits dataset"
      ]
    },
    {
      "cell_type": "code",
      "execution_count": 4,
      "metadata": {
        "id": "A4Tj2vXdslmX"
      },
      "outputs": [],
      "source": [
        "# Load digits dataset\n",
        "dataset = skdata.load_digits()\n",
        "\n",
        "# Dataset of image, currently vectorized as (N, 64) shape\n",
        "X = dataset.data\n",
        "y = dataset.target"
      ]
    },
    {
      "cell_type": "markdown",
      "metadata": {
        "id": "Bo6RsMidtxC0"
      },
      "source": [
        "Visualize digits dataset as images"
      ]
    },
    {
      "cell_type": "code",
      "execution_count": null,
      "metadata": {
        "id": "xdSoA-Pktyth"
      },
      "outputs": [
        {
          "data": {
            "image/png": "[encoded data removed]",
            "text/plain": [
              "<Figure size 1000x1000 with 9 Axes>"
            ]
          },
          "metadata": {},
          "output_type": "display_data"
        },
        {
          "data": {
            "image/png": "[encoded data removed]",
            "text/plain": [
              "<Figure size 1000x1000 with 9 Axes>"
            ]
          },
          "metadata": {},
          "output_type": "display_data"
        }
      ],
      "source": [
        "# DONE: Get the number of dimensions in the dataset\n",
        "n_dim = X.shape[1]\n",
        "\n",
        "# DONE: Reshape handwritten digits dataset to N x 8 x 8\n",
        "X_reshaped = X.reshape(-1, 8, 8)\n",
        "\n",
        "# DONE: Plot 3 x 3 panel of handwritten digits with title 'Handwritten digits dataset'\n",
        "plot_images(X_reshaped, 3, 3, 'Handwritten digits dataset')\n",
        "\n",
        "# DONE: Vectorize handwritten digits dataset to N x D\n",
        "X_vec = X_reshaped.reshape(-1, n_dim)\n",
        "\n",
        "# DONE: Plot 9 x 1 panel of handwritten digits with title 'Vectorized handwritten digits dataset'\n",
        "X_vec_reshaped = X_vec.reshape(-1, 8, 8)\n",
        "plot_images(X_vec_reshaped, 9, 1, 'Vectorized handwritten digits dataset')"
      ]
    },
    {
      "cell_type": "markdown",
      "metadata": {
        "id": "3v9Xqb5Ysu4K"
      },
      "source": [
        "Compressing and reconstructing with principal component analysis (PCA)"
      ]
    },
    {
      "cell_type": "code",
      "execution_count": 8,
      "metadata": {
        "id": "-BxIbNZRL5Wk"
      },
      "outputs": [
        {
          "data": {
            "image/png": "[encoded data removed]",
            "text/plain": [
              "<Figure size 640x480 with 1 Axes>"
            ]
          },
          "metadata": {},
          "output_type": "display_data"
        },
        {
          "data": {
            "image/png": "[encoded data removed]",
            "text/plain": [
              "<Figure size 640x480 with 1 Axes>"
            ]
          },
          "metadata": {},
          "output_type": "display_data"
        }
      ],
      "source": [
        "# DONE: Plot full set of eigenvalues for dataset\n",
        "# set title of plot 'Sorted eigenvalues' with xlabel of 'Eigenvector #' and ylabel of 'Eigenvalue'\n",
        "pca = PrincipalComponentAnalysis(n_dim)\n",
        "pca.fit(X_vec)\n",
        "eigenvalues = pca.get_eigenvalues()\n",
        "plot(np.arange(1, n_dim + 1), eigenvalues, 'Sorted eigenvalues', 'Eigenvector #', 'Eigenvalue')\n",
        "\n",
        "# MSE scores to keep track of loss from compression\n",
        "mse_scores = []\n",
        "\n",
        "# Test reconstruction error using top d number of eigenvectors\n",
        "for d in range(1, n_dim + 1):\n",
        "\n",
        "    # DONE: Fit PCA to data\n",
        "    pca = PrincipalComponentAnalysis(d)\n",
        "    pca.fit(X_vec)\n",
        "\n",
        "    # DONE: Project the data to subspace\n",
        "    Z = pca.project_to_subspace(X_vec)\n",
        "\n",
        "    # DONE: Reconstruct the original data\n",
        "    X_hat = pca.reconstruct_from_subspace(Z)\n",
        "\n",
        "    # DONE: Measures mean squared error between original data and reconstructed data\n",
        "    mse_score = skmetrics.mean_squared_error(X_vec, X_hat)\n",
        "\n",
        "    # DONE: Save MSE score\n",
        "    mse_scores.append(mse_score)\n",
        "\n",
        "# DONE: Create plot for number of top eigenvectors used and their MSE for reconstruction\n",
        "# set title of plot 'Digits dataset reconstruction loss' with xlabel of 'd' and ylabel of 'MSE'\n",
        "plot(np.arange(1, n_dim + 1), mse_scores, 'Digits dataset reconstruction loss', 'd', 'MSE')"
      ]
    },
    {
      "cell_type": "markdown",
      "metadata": {
        "id": "k1sIiZ6dA-Up"
      },
      "source": [
        "Visualize data using PCA"
      ]
    },
    {
      "cell_type": "code",
      "execution_count": null,
      "metadata": {
        "id": "y-hB_lgAA928"
      },
      "outputs": [],
      "source": [
        "# Set colors\n",
        "colors = [\n",
        "    'tab:blue',\n",
        "    'tab:green',\n",
        "    'tab:red',\n",
        "    'tab:purple',\n",
        "    'tab:olive',\n",
        "    'tab:orange',\n",
        "    'tab:brown',\n",
        "    'tab:pink',\n",
        "    'tab:gray',\n",
        "    'tab:cyan'\n",
        "]\n",
        "\n",
        "# DONE?: Project the data into 3-dimensional subspace\n",
        "pca = PrincipalComponentAnalysis(3)\n",
        "pca.fit(X_vec)\n",
        "Z = pca.project_to_subspace(X_vec)\n",
        "\n",
        "fig = plt.figure(dpi=150)\n",
        "fig.suptitle('Visualization of digits projected from {} dimensions to 3-dimensional subspace'.format(n_dim))\n",
        "ax = fig.add_subplot(1, 1, 1, projection='3d')\n",
        "\n",
        "# Iterate through each class and plot them into the figure as scatter plot with different colors\n",
        "for label, color in zip(np.sort(np.unique(y)), colors):\n",
        "\n",
        "    # DONE?: Select from projected points the ones belonging to current class\n",
        "    Z_class = Z[y == label]\n",
        "\n",
        "    # DONE: Plot using scatter for selected points with associated color\n",
        "    # set the plot label as label, set alpha to 0.2\n",
        "    ax.scatter(Z_class[:, 0], Z_class[:, 1], Z_class[:, 2], c=color, label=label, alpha=0.2)\n",
        "\n",
        "# DONE: Turn on legend and set loc to best\n",
        "ax.legend(loc='best')\n",
        "\n",
        "# TODO: set xlabel, ylabel and zlabel to their respective principal component (PC#)\n",
        "ax.set_xlabel('PC1')\n",
        "ax.set_ylabel('PC2')\n",
        "ax.set_zlabel('PC3')"
      ]
    },
    {
      "cell_type": "markdown",
      "metadata": {
        "id": "rWlb0fCJzZuo"
      },
      "source": [
        "Select 2s from digits dataset"
      ]
    },
    {
      "cell_type": "code",
      "execution_count": null,
      "metadata": {
        "id": "XlIMKxqkzYOu"
      },
      "outputs": [],
      "source": [
        "# TODO: Select all 2's from the digit dataset\n",
        "X_2s = None\n",
        "\n",
        "# TODO: Reshape handwritten digits dataset of 2s to (N, 8, 8)\n",
        "X_2s_reshaped = None\n",
        "\n",
        "# TODO: Plot 3 x 3 panel of handwritten digits and name is 'Handwritten digits dataset of 2s'"
      ]
    },
    {
      "cell_type": "markdown",
      "metadata": {
        "id": "qqNtpXrHOqgl"
      },
      "source": [
        "PCA as a generative model"
      ]
    },
    {
      "cell_type": "code",
      "execution_count": null,
      "metadata": {
        "id": "33CynVqeOjYE"
      },
      "outputs": [],
      "source": [
        "# TODO: Vectorize handwritten digits dataset of 2s\n",
        "X_2s_vec = None\n",
        "\n",
        "# TODO: Compute PCA and with 5 dimensions\n",
        "pca_2s = None\n",
        "\n",
        "# TODO: Generate 25 novel examples\n",
        "X_2s_hat = None\n",
        "\n",
        "# TODO: Plot 5 x 5 panel of handwritten digits and name is 'Synthesized handwritten digits dataset'\n"
      ]
    },
    {
      "cell_type": "markdown",
      "metadata": {
        "id": "part2_heading"
      },
      "source": [
        "## Part 2: Olivetti Faces Dataset"
      ]
    },
    {
      "cell_type": "code",
      "execution_count": null,
      "metadata": {
        "id": "load_faces_dataset"
      },
      "outputs": [],
      "source": [
        "# Load Olivetti faces dataset\n",
        "from sklearn.datasets import fetch_olivetti_faces\n",
        "faces_dataset = fetch_olivetti_faces(shuffle=True)\n",
        "\n",
        "# Dataset of face images with shape (N, 64, 64)\n",
        "X_faces = faces_dataset.images\n",
        "y_faces = faces_dataset.target\n",
        "\n",
        "print('Faces dataset shape: {}'.format(X_faces.shape))\n",
        "print('Number of unique individuals: {}'.format(len(np.unique(y_faces))))"
      ]
    },
    {
      "cell_type": "markdown",
      "metadata": {
        "id": "visualize_faces_heading"
      },
      "source": [
        "Visualize faces dataset"
      ]
    },
    {
      "cell_type": "code",
      "execution_count": null,
      "metadata": {
        "id": "visualize_faces"
      },
      "outputs": [],
      "source": [
        "# TODO: Get the dimensions of a face image\n",
        "face_height, face_width = None, None\n",
        "\n",
        "# TODO: Plot 3 x 3 panel of face images with title 'Olivetti faces dataset'\n",
        "\n",
        "\n",
        "# TODO: Vectorize face images to N x D\n",
        "X_faces_vec = None\n",
        "\n",
        "# TODO: Plot 9 x 1 panel of vectorized face images with title 'Vectorized Olivetti faces dataset'\n"
      ]
    },
    {
      "cell_type": "markdown",
      "metadata": {
        "id": "faces_compression_heading"
      },
      "source": [
        "Compressing and reconstructing faces with PCA"
      ]
    },
    {
      "cell_type": "code",
      "execution_count": null,
      "metadata": {
        "id": "faces_compression"
      },
      "outputs": [],
      "source": [
        "# Get the number of dimensions in the faces dataset\n",
        "n_dim_faces = X_faces_vec.shape[1] if X_faces_vec is not None else 0\n",
        "\n",
        "# TODO: Plot full set of eigenvalues for faces dataset\n",
        "# set title of plot 'Sorted eigenvalues (Faces)' with xlabel of 'Eigenvector #' and ylabel of 'Eigenvalue'\n",
        "# Note: Computing all eigenvalues would be computationally expensive\n",
        "# Let's compute a reasonable number, say 100\n",
        "n_components_to_compute = 100\n",
        "pca_faces = None\n",
        "\n",
        "# MSE scores to keep track of loss from compression\n",
        "mse_scores_faces = []\n",
        "\n",
        "# Test reconstruction error using top d number of eigenvectors\n",
        "# Use a reasonable range to save computation\n",
        "d_values = np.arange(1, 101, 5)  # [1, 6, 11, ..., 96]\n",
        "for d in d_values:\n",
        "    # TODO: Fit PCA to face data\n",
        "    pca_faces = None\n",
        "\n",
        "    # TODO: Project the data to subspace\n",
        "    Z_faces = None\n",
        "\n",
        "    # TODO: Reconstruct the original data\n",
        "    X_faces_hat = None\n",
        "\n",
        "    # TODO: Measures mean squared error between original data and reconstructed data\n",
        "    mse_score_faces = 0.0\n",
        "\n",
        "    # TODO: Save MSE score\n",
        "\n",
        "    # Print progress\n",
        "    print('Completed PCA with {d} components'.format(d))\n",
        "\n",
        "# TODO: Create plot for number of top eigenvectors used and their MSE for reconstruction\n",
        "# set title of plot 'Faces dataset reconstruction loss' with xlabel of 'd' and ylabel of 'MSE'\n"
      ]
    },
    {
      "cell_type": "markdown",
      "metadata": {
        "id": "faces_3d_heading"
      },
      "source": [
        "Visualizing Faces in 3D Space"
      ]
    },
    {
      "cell_type": "code",
      "execution_count": null,
      "metadata": {
        "id": "faces_3d"
      },
      "outputs": [],
      "source": [
        "# TODO: Project the face data into 3-dimensional subspace\n",
        "pca_faces_3d = None\n",
        "Z_faces_3d = None\n",
        "\n",
        "fig = plt.figure(dpi=150, figsize=(10, 8))\n",
        "fig.suptitle('Visualization of faces projected from {} dimensions to 3-dimensional subspace'.format(n_dim_faces))\n",
        "ax = fig.add_subplot(1, 1, 1, projection='3d')\n",
        "\n",
        "# For clarity, let's select a subset of identities\n",
        "selected_identities = np.arange(10)  # First 10 identities\n",
        "identity_colors = colors[:len(selected_identities)]\n",
        "\n",
        "# TODO: Plot each identity with a different color\n",
        "# Hint: Use indices = np.where(y_faces == identity)[0] to find indices for each identity\n",
        "# Then use ax.scatter to plot the corresponding points from Z_faces_3d\n",
        "\n",
        "# TODO: Add legend, labels for the axes (PC1, PC2, PC3)"
      ]
    },
    {
      "cell_type": "markdown",
      "metadata": {
        "id": "eigenfaces_heading"
      },
      "source": [
        "Visualizing Eigenfaces"
      ]
    },
    {
      "cell_type": "code",
      "execution_count": null,
      "metadata": {
        "id": "eigenfaces"
      },
      "outputs": [],
      "source": [
        "# TODO: Fit PCA to face data with 9 components\n",
        "pca_eigenfaces = None\n",
        "\n",
        "# TODO: Get the eigenfaces by reshaping the components to (n_components, face_height, face_width)\n",
        "# Hint: Also get the mean face by reshaping the mean\n",
        "mean_face = None\n",
        "eigenfaces = None\n",
        "\n",
        "# TODO: Plot the mean face and the first 8 eigenfaces in a 3 x 3 grid\n",
        "# First subplot should be the mean face, remaining 8 should be the eigenfaces\n",
        "# Hint: Use plt.subplots(3, 3) to create the grid"
      ]
    },
    {
      "cell_type": "markdown",
      "metadata": {
        "id": "face_reconstruction_heading"
      },
      "source": [
        "Face Reconstruction with Different Numbers of Components"
      ]
    },
    {
      "cell_type": "code",
      "execution_count": null,
      "metadata": {
        "id": "face_reconstruction"
      },
      "outputs": [],
      "source": [
        "# TODO: Create a function to visualize original and reconstructed faces\n",
        "def plot_face_reconstruction(X_original, X_reconstructed, n_components, n_faces=5):\n",
        "    '''\n",
        "    Plot original and reconstructed faces\n",
        "\n",
        "    Args:\n",
        "        X_original: Original face images (n_samples, height, width)\n",
        "        X_reconstructed: Reconstructed face images (n_samples, height, width)\n",
        "        n_components: Number of principal components used for reconstruction\n",
        "        n_faces: Number of faces to display\n",
        "    '''\n",
        "\n",
        "    # TODO: Implement the function\n",
        "\n",
        "# TODO: Generate reconstructions with different numbers of components (e.g., 5, 15, 30, 50, 100)\n",
        "# TODO: Visualize the original and reconstructed faces side by side\n",
        "n_faces_to_show = 5\n",
        "components_to_try = [5, 15, 30, 50, 100]"
      ]
    },
    {
      "cell_type": "markdown",
      "metadata": {
        "id": "face_generation_heading"
      },
      "source": [
        "Face Generation for a Single Identity"
      ]
    },
    {
      "cell_type": "code",
      "execution_count": null,
      "metadata": {
        "id": "face_generation"
      },
      "outputs": [],
      "source": [
        "identity_idx = 30  # Choose identity\n",
        "\n",
        "# TODO: Select all faces from a single identity\n",
        "X_single_identity = None\n",
        "\n",
        "# Show the original faces for this identity\n",
        "X_single_identity_images = X_faces[y_faces == identity_idx] if X_faces is not None else None\n",
        "if X_single_identity_images is not None:\n",
        "    plot_images(X_single_identity_images, 2, 5, 'Original faces of person {}'.format(identity_idx))\n",
        "\n",
        "# TODO: Compute PCA with 5 dimensions on this subset\n",
        "pca_identity = None\n",
        "\n",
        "# TODO: Generate 25 novel face examples for this identity\n",
        "X_generated_faces = None\n",
        "\n",
        "# TODO: Plot 5 x 5 panel of generated faces and name it 'Synthesized faces dataset'\n",
        "# Hint: Don't forget to reshape the generated faces back to 2D images\n",
        "\n",
        "# Show plots\n",
        "plt.show()"
      ]
    }
  ],
  "metadata": {
    "colab": {
      "provenance": []
    },
    "kernelspec": {
      "display_name": "venv",
      "language": "python",
      "name": "python3"
    },
    "language_info": {
      "codemirror_mode": {
        "name": "ipython",
        "version": 3
      },
      "file_extension": ".py",
      "mimetype": "text/x-python",
      "name": "python",
      "nbconvert_exporter": "python",
      "pygments_lexer": "ipython3",
      "version": "3.12.9"
    }
  },
  "nbformat": 4,
  "nbformat_minor": 0
}
