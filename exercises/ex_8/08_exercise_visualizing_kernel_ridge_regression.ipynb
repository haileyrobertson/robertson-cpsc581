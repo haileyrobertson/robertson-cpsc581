{
  "nbformat": 4,
  "nbformat_minor": 0,
  "metadata": {
    "colab": {
      "provenance": []
    },
    "kernelspec": {
      "name": "python3",
      "display_name": "Python 3"
    },
    "language_info": {
      "name": "python"
    }
  },
  "cells": [
    {
      "cell_type": "markdown",
      "source": [
        "**Exercise 8: Visualizing Kernel Ridge Regression**\n",
        "\n",
        "*CPSC 381/581: Machine Learning*\n",
        "\n",
        "*Yale University*\n",
        "\n",
        "*Instructor: Alex Wong*\n",
        "\n",
        "\n",
        "**Prerequisites**:\n",
        "\n",
        "1. Enable Google Colaboratory as an app on your Google Drive account\n",
        "\n",
        "2. Create a new Google Colab notebook, this will also create a \"Colab Notebooks\" directory under \"MyDrive\" i.e.\n",
        "```\n",
        "/content/drive/MyDrive/Colab Notebooks\n",
        "```\n",
        "\n",
        "3. Create the following directory structure in your Google Drive\n",
        "```\n",
        "/content/drive/MyDrive/Colab Notebooks/CPSC 381-581: Machine Learning/Exercises\n",
        "```\n",
        "\n",
        "4. Move the 08_exercise_visualizing_kernel_ridge_regression.ipynb into\n",
        "```\n",
        "/content/drive/MyDrive/Colab Notebooks/CPSC 381-581: Machine Learning/Exercises\n",
        "```\n",
        "so that its absolute path is\n",
        "```\n",
        "/content/drive/MyDrive/Colab Notebooks/CPSC 381-581: Machine Learning/Exercises/08_exercise_visualizing_kernel_ridge_regressio.ipynb\n",
        "```\n",
        "\n",
        "In this exercise, we will optimize a kernel ridge regression with different kernels and visualize the decision boundaries.\n",
        "\n",
        "\n",
        "**Submission**:\n",
        "\n",
        "1. Implement all TODOs in the code blocks below.\n",
        "\n",
        "2. List any collaborators.\n",
        "\n",
        "```\n",
        "Collaborators: Doe, Jane (Please write names in <Last Name, First Name> format)\n",
        "\n",
        "Collaboration details: Discussed ... implementation details with Jane Doe.\n",
        "```"
      ],
      "metadata": {
        "id": "_0fsGaVMMpwG"
      }
    },
    {
      "cell_type": "markdown",
      "source": [
        "Import packages"
      ],
      "metadata": {
        "id": "wxeZsiCGC0J8"
      }
    },
    {
      "cell_type": "code",
      "execution_count": null,
      "metadata": {
        "id": "uumvcyiQ-k21"
      },
      "outputs": [],
      "source": [
        "import numpy as np\n",
        "import sklearn.datasets as skdata\n",
        "from sklearn.kernel_ridge import KernelRidge as KernelRidgeRegressionSciKit\n",
        "import warnings\n",
        "from matplotlib import pyplot as plt\n",
        "from mpl_toolkits.mplot3d import Axes3D\n",
        "\n",
        "warnings.filterwarnings(action='ignore')\n",
        "np.random.seed = 1"
      ]
    },
    {
      "cell_type": "markdown",
      "source": [
        "Kernel Ridge Regression Hyperparameters"
      ],
      "metadata": {
        "id": "820We1x-0SVK"
      }
    },
    {
      "cell_type": "code",
      "source": [
        "# Structured in form of [kernel_func, degree, gamma]\n",
        "hyperparameters = [\n",
        "    ['linear', 0, None],\n",
        "    ['polynomial', 2, None],\n",
        "    ['polynomial', 4, None],\n",
        "    ['polynomial', 6, None],\n",
        "    ['polynomial', 8, None],\n",
        "    ['rbf', 0, 0.01],\n",
        "    ['rbf', 0, 0.05],\n",
        "    ['rbf', 0, 0.1],\n",
        "    ['rbf', 0, 1],\n",
        "]"
      ],
      "metadata": {
        "id": "KhNvtbIy0RSi"
      },
      "execution_count": null,
      "outputs": []
    },
    {
      "cell_type": "markdown",
      "source": [
        "Comparing linear, polynomial, and RBF kernels for 1D data"
      ],
      "metadata": {
        "id": "TTvfLetIQmk5"
      }
    },
    {
      "cell_type": "code",
      "source": [
        "# Create sine dataset\n",
        "X = np.reshape(np.linspace(-10, 10, 1000), (-1, 1))\n",
        "y = np.sin(X).ravel()\n",
        "\n",
        "# TODO: Create figure with figsize=(25, 25)\n",
        "fig = None\n",
        "\n",
        "# TODO: Enumerate through kernel ridge regression hyperparameters with index\n",
        "\n",
        "\n",
        "    # TODO: Instantiate and fit Kernel Ridge Regression model from scikit\n",
        "    # using different kernel functions and their parameters using alpha=1.0\n",
        "    model = None\n",
        "\n",
        "    # TODO: Predict target value from X\n",
        "    y_hat = None\n",
        "\n",
        "    # TODO: Instantiate axis for subplot of a 3 x 3 figure\n",
        "    ax = None\n",
        "\n",
        "    # TODO: Plot the original data with x-axis being the X and y-axis being y with color='blue', label='Ground truth'\n",
        "\n",
        "\n",
        "    # TODO: Plot the Kernel Ridge Regression (KRR) predictions with x-axis being the X and y-axis being predictions with color='red', label='Predictions'\n",
        "\n",
        "\n",
        "    # TODO: Set title to 'KRR for 1D data using {} kernel with degree={}, gamma={}'\n",
        "\n",
        "\n",
        "    # TODO: Set xlabel to 'x1'\n",
        "\n",
        "\n",
        "    # TODO: Set ylabel to 'Values'\n",
        "\n",
        "\n",
        "    # TODO: Set legend with loc='upper right'\n",
        "\n",
        "\n",
        "plt.show()"
      ],
      "metadata": {
        "id": "k9OD26CBQmHN"
      },
      "execution_count": null,
      "outputs": []
    },
    {
      "cell_type": "markdown",
      "source": [
        "Comparing linear, polynomial, and RBF kernels for 2D data"
      ],
      "metadata": {
        "id": "vjHeSwKU_jci"
      }
    },
    {
      "cell_type": "code",
      "source": [
        "# Generate moons dataset for binary classification\n",
        "X, y = skdata.make_moons(n_samples=300, noise=0.2, random_state=42)\n",
        "y[y == 0] = -1\n",
        "\n",
        "# TODO: Create figure with figsize=(25, 25)\n",
        "fig = None\n",
        "\n",
        "# TODO: Enumerate through kernel ridge regression hyperparameters with index\n",
        "\n",
        "\n",
        "    # TODO: Instantiate and fit Kernel Ridge Regression model from scikit\n",
        "    # using different kernel functions and their parameters using alpha=1.0\n",
        "    model = None\n",
        "\n",
        "    # TODO: Get x1_min and x1_max (0-th dimension), and x2_min and x2_max (1-st dimension) from X\n",
        "    x1_min, x1_max = None, None\n",
        "    x2_min, x2_max = None, None\n",
        "\n",
        "    # TODO: Create 2 linspaces: one from x1_min to x1_max and the other from x1_min to x2_max with 500 units\n",
        "    x1_linspace = None\n",
        "    x2_linspace = None\n",
        "\n",
        "    # TODO: Create meshgrid for x1 and x2 using linspaces\n",
        "    x1, x2 = None, None\n",
        "\n",
        "    # TODO: Predict values for every point in meshgrid\n",
        "    all_Xs = None\n",
        "    y_hat = None\n",
        "\n",
        "    # TODO: Reshape y_hat to x1 or x2's shape\n",
        "    y_hat = None\n",
        "\n",
        "    # TODO: Instantiate axis for subplot of a 3 x 3 figure\n",
        "    ax = None\n",
        "\n",
        "    # TODO: Plot Contour for predictions with levels=20, cmap='coolwarm', alpha=0.8, vmin=-3, vmax=3\n",
        "    contour = None\n",
        "\n",
        "    # TODO: Create colorbar for contour on axis and set its label to 'y_hat'\n",
        "    cbar = None\n",
        "\n",
        "\n",
        "    # TODO: Plot decision boundary using levels=[0], colors='black', linewidths=2\n",
        "    decision_boundary = None\n",
        "\n",
        "    # TODO: Create scatter plot for X and set its color to y with edgecolor='black', cmap='coolwarm', label='Ground truth'\n",
        "\n",
        "\n",
        "    # TODO: Set title to 'KRR for 2D data using {} kernel with degree={}, gamma={}'\n",
        "\n",
        "\n",
        "    # TODO: Set xlabel to 'x1'\n",
        "\n",
        "\n",
        "    # TODO: Set ylabel to 'x2'\n",
        "\n",
        "\n",
        "    # TODO: Set legend with loc='upper right'\n",
        "\n",
        "\n",
        "plt.show()"
      ],
      "metadata": {
        "id": "cxd7M2yOWJJZ"
      },
      "execution_count": null,
      "outputs": []
    },
    {
      "cell_type": "code",
      "source": [
        "# Generate a 3-dimensional dataset\n",
        "X, y = skdata.make_swiss_roll(n_samples=5000, noise=0.0, random_state=None, hole=False)\n",
        "# Optional you should try it on S curve as well\n",
        "# X, y = skdata.make_s_curve(n_samples=5000, noise=0.0, random_state=None)\n",
        "\n",
        "# TODO: Create figure with figsize=(40, 30)\n",
        "fig = None\n",
        "\n",
        "# TODO: Enumerate through kernel ridge regression hyperparameters with index\n",
        "\n",
        "\n",
        "    # TODO: Instantiate and fit Kernel Ridge Regression model from scikit\n",
        "    # using different kernel functions and their parameters using alpha=1.0\n",
        "    model = None\n",
        "\n",
        "    # TODO: Predict for X\n",
        "    y_hat = None\n",
        "\n",
        "    # TODO: Instantiate axis for subplot of a 9 x 2 figure with projection='3d', access the first column of the row\n",
        "    ax1 = None\n",
        "\n",
        "    # TODO: Create scatter plot for X and set its color to y_hat with edgecolor='black', cmap='coolwarm', label='Data points'\n",
        "    scatter1 = None\n",
        "\n",
        "    # TODO: Create colorbar for scatter plot on axis with ax=ax1 and set its label to 'y_hat'\n",
        "    cbar = None\n",
        "\n",
        "    # TODO: Set title to 'KRR on 3D data using {} kernel with degree={}, gamma={}'\n",
        "\n",
        "\n",
        "    # TODO: Set xlabel to 'x1'\n",
        "\n",
        "\n",
        "    # TODO: Set ylabel to 'x2'\n",
        "\n",
        "\n",
        "    # TODO: Set zlabel to 'x3'\n",
        "\n",
        "\n",
        "    # TODO: Set legend with loc='upper right'\n",
        "\n",
        "\n",
        "    # TODO: Measure error for each prediction using absolute error\n",
        "    y_error = None\n",
        "\n",
        "    # TODO: Instantiate axis for subplot of a 9 x 2 figure with projection='3d', access the second column of the row\n",
        "    ax2 = None\n",
        "\n",
        "    # TODO: Create scatter plot for X and set its color to y_error with edgecolor='black', cmap='coolwarm', label='Data points'\n",
        "    scatter2 = None\n",
        "\n",
        "    # TODO: Create colorbar for scatter plot on axis with ax=ax2 and set its label to 'y_hat'\n",
        "    cbar = None\n",
        "\n",
        "    # TODO: Set title to 'KRR Error on 3D data using {} kernel with degree={}, gamma={}'\n",
        "\n",
        "\n",
        "    # TODO: Set xlabel to 'x1'\n",
        "\n",
        "\n",
        "    # TODO: Set ylabel to 'x2'\n",
        "\n",
        "\n",
        "    # TODO: Set zlabel to 'x3'\n",
        "\n",
        "\n",
        "    # TODO: Set legend with loc='upper right'\n",
        "\n",
        "\n",
        "fig.tight_layout(w_pad=-100.0)\n",
        "plt.show()"
      ],
      "metadata": {
        "id": "2ZpECWQijSWM"
      },
      "execution_count": null,
      "outputs": []
    }
  ]
}