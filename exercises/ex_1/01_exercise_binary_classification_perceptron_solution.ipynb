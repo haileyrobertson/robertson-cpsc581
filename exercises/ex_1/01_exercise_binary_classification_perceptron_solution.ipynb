{
  "nbformat": 4,
  "nbformat_minor": 0,
  "metadata": {
    "colab": {
      "provenance": []
    },
    "kernelspec": {
      "name": "python3",
      "display_name": "Python 3"
    },
    "language_info": {
      "name": "python"
    }
  },
  "cells": [
    {
      "cell_type": "markdown",
      "source": [
        "**Exercise 1: Training, Validation, and Testing a Perceptron**\n",
        "\n",
        "*CPSC 381/581: Machine Learning*\n",
        "\n",
        "*Yale University*\n",
        "\n",
        "*Instructor: Alex Wong*\n",
        "\n",
        "\n",
        "**Prerequisites**:\n",
        "\n",
        "1. Enable Google Colaboratory as an app on your Google Drive account\n",
        "\n",
        "2. Create a new Google Colab notebook, this will also create a \"Colab Notebooks\" directory under \"MyDrive\" i.e.\n",
        "```\n",
        "/content/drive/MyDrive/Colab Notebooks\n",
        "```\n",
        "\n",
        "3. Create the following directory structure in your Google Drive\n",
        "```\n",
        "/content/drive/MyDrive/Colab Notebooks/CPSC 381-581: Machine Learning/Exercises\n",
        "```\n",
        "\n",
        "4. Move the 01_exercise.ipynb into\n",
        "```\n",
        "/content/drive/MyDrive/Colab Notebooks/CPSC 381-581: Machine Learning/Exercises\n",
        "```\n",
        "so that its absolute path is\n",
        "```\n",
        "/content/drive/MyDrive/Colab Notebooks/CPSC 381-581: Machine Learning/Exercises/01_exercise.ipynb\n",
        "```\n",
        "\n",
        "In this exercise, we will introduce basic data handling using NumPy to create training, validation and testing splits. We will implement a training and validation loop for a Perceptron and test it on the testing split.\n",
        "\n",
        "\n",
        "**Submission**:\n",
        "\n",
        "1. Implement all TODOs in the code blocks below.\n",
        "\n",
        "2. Report your validation and testing scores.\n",
        "\n",
        "```\n",
        "Report validation and testing scores here. For example,\n",
        "\n",
        "Max training iterations: 1\n",
        "Training loss: 0.18681  Validation accuracy: 80.70%\n",
        "Max training iterations: 2\n",
        "Training loss: 0.61978  Validation accuracy: 43.86%\n",
        "Max training iterations: 3\n",
        "Training loss: 0.08791  Validation accuracy: 87.72%\n",
        "Max training iterations: 4\n",
        "Training loss: 0.08352  Validation accuracy: 91.23%\n",
        "\n",
        "Test accuracy: 87.72%\n",
        "\n",
        "```\n",
        "\n",
        "3. List any collaborators.\n",
        "\n",
        "```\n",
        "Collaborators: Doe, Jane (Please write names in <Last Name, First Name> format)\n",
        "\n",
        "Collaboration details: Discussed ... implementation details with Jane Doe.\n",
        "```"
      ],
      "metadata": {
        "id": "_0fsGaVMMpwG"
      }
    },
    {
      "cell_type": "markdown",
      "source": [
        "Import packages"
      ],
      "metadata": {
        "id": "wxeZsiCGC0J8"
      }
    },
    {
      "cell_type": "code",
      "execution_count": 9,
      "metadata": {
        "id": "uumvcyiQ-k21"
      },
      "outputs": [],
      "source": [
        "import numpy as np\n",
        "import sklearn.datasets as skdata\n",
        "from sklearn.linear_model import Perceptron\n",
        "import warnings\n",
        "\n",
        "warnings.filterwarnings(action='ignore')"
      ]
    },
    {
      "cell_type": "markdown",
      "source": [
        "Loading data"
      ],
      "metadata": {
        "id": "5ljMielQC7Lg"
      }
    },
    {
      "cell_type": "code",
      "source": [
        "# TODO: Load breast cancer dataset\n",
        "# dictionary object keyed by data, target, target_names, feature_names, ...\n",
        "breast_cancer_data = skdata.load_breast_cancer()\n",
        "\n",
        "# TODO: Get data, target, target_names, and feature_names from the dataset\n",
        "x = breast_cancer_data.data\n",
        "y = breast_cancer_data.target\n",
        "target_names = breast_cancer_data.target_names\n",
        "feature_names = breast_cancer_data.feature_names\n",
        "\n",
        "# TODO: Show the number of samples and features in the dataset\n",
        "print('Number of samples in dataset: {}'.format(x.shape[0]))\n",
        "print('Number of features in each sample: {}'.format(x.shape[1]))\n",
        "\n",
        "# TODO: Check to make sure that there are the same number of ground truth\n",
        "assert x.shape[0] == y.shape[0], 'Number of sample and ground truth does not match!'"
      ],
      "metadata": {
        "id": "6wlWiioqDBkG",
        "colab": {
          "base_uri": "https://localhost:8080/"
        },
        "outputId": "45891603-00bd-4aa5-a1be-75b2324cb33d"
      },
      "execution_count": 10,
      "outputs": [
        {
          "output_type": "stream",
          "name": "stdout",
          "text": [
            "Number of samples in dataset: 569\n",
            "Number of features in each sample: 30\n"
          ]
        }
      ]
    },
    {
      "cell_type": "markdown",
      "source": [
        "Accessing the features of the dataset"
      ],
      "metadata": {
        "id": "SgFKGRDagRNz"
      }
    },
    {
      "cell_type": "code",
      "source": [
        "# TODO: Examine the dataset by showing the first two data points\n",
        "# Print each feature name and value in each line \"<name>: <value>\" followed by \"target: <name> (<value>)\"\n",
        "for sample_idx in range(2):\n",
        "\n",
        "    print('sample: {}'.format(sample_idx + 1))\n",
        "\n",
        "    for feature_value, feature_name in zip(x[sample_idx, :], feature_names):\n",
        "        print('{} : {}'.format(feature_name, feature_value))\n",
        "\n",
        "    target_name = target_names[y[sample_idx]]\n",
        "    print('target: {} ({}) \\n'.format(target_name, y[sample_idx]))"
      ],
      "metadata": {
        "colab": {
          "base_uri": "https://localhost:8080/"
        },
        "id": "d85Zv7nifE3e",
        "outputId": "e9d06e0a-912d-4d22-ced0-17300105ad5e"
      },
      "execution_count": 11,
      "outputs": [
        {
          "output_type": "stream",
          "name": "stdout",
          "text": [
            "sample: 1\n",
            "mean radius : 17.99\n",
            "mean texture : 10.38\n",
            "mean perimeter : 122.8\n",
            "mean area : 1001.0\n",
            "mean smoothness : 0.1184\n",
            "mean compactness : 0.2776\n",
            "mean concavity : 0.3001\n",
            "mean concave points : 0.1471\n",
            "mean symmetry : 0.2419\n",
            "mean fractal dimension : 0.07871\n",
            "radius error : 1.095\n",
            "texture error : 0.9053\n",
            "perimeter error : 8.589\n",
            "area error : 153.4\n",
            "smoothness error : 0.006399\n",
            "compactness error : 0.04904\n",
            "concavity error : 0.05373\n",
            "concave points error : 0.01587\n",
            "symmetry error : 0.03003\n",
            "fractal dimension error : 0.006193\n",
            "worst radius : 25.38\n",
            "worst texture : 17.33\n",
            "worst perimeter : 184.6\n",
            "worst area : 2019.0\n",
            "worst smoothness : 0.1622\n",
            "worst compactness : 0.6656\n",
            "worst concavity : 0.7119\n",
            "worst concave points : 0.2654\n",
            "worst symmetry : 0.4601\n",
            "worst fractal dimension : 0.1189\n",
            "target: malignant (0) \n",
            "\n",
            "sample: 2\n",
            "mean radius : 20.57\n",
            "mean texture : 17.77\n",
            "mean perimeter : 132.9\n",
            "mean area : 1326.0\n",
            "mean smoothness : 0.08474\n",
            "mean compactness : 0.07864\n",
            "mean concavity : 0.0869\n",
            "mean concave points : 0.07017\n",
            "mean symmetry : 0.1812\n",
            "mean fractal dimension : 0.05667\n",
            "radius error : 0.5435\n",
            "texture error : 0.7339\n",
            "perimeter error : 3.398\n",
            "area error : 74.08\n",
            "smoothness error : 0.005225\n",
            "compactness error : 0.01308\n",
            "concavity error : 0.0186\n",
            "concave points error : 0.0134\n",
            "symmetry error : 0.01389\n",
            "fractal dimension error : 0.003532\n",
            "worst radius : 24.99\n",
            "worst texture : 23.41\n",
            "worst perimeter : 158.8\n",
            "worst area : 1956.0\n",
            "worst smoothness : 0.1238\n",
            "worst compactness : 0.1866\n",
            "worst concavity : 0.2416\n",
            "worst concave points : 0.186\n",
            "worst symmetry : 0.275\n",
            "worst fractal dimension : 0.08902\n",
            "target: malignant (0) \n",
            "\n"
          ]
        }
      ]
    },
    {
      "cell_type": "markdown",
      "source": [
        "Creating the training, validation and testing splits"
      ],
      "metadata": {
        "id": "v01ndhtiEoWh"
      }
    },
    {
      "cell_type": "code",
      "source": [
        "# TODO: Shuffle the dataset based on sample indices\n",
        "shuffled_indices = np.random.permutation(x.shape[0])\n",
        "\n",
        "# TODO: Choose the first 80% as training set, next 10% as validation and the rest as testing\n",
        "train_split_size = int(0.80 * x.shape[0])\n",
        "val_split_size = int(0.90 * x.shape[0])\n",
        "\n",
        "train_indices = shuffled_indices[:train_split_size]\n",
        "val_indices = shuffled_indices[train_split_size:val_split_size]\n",
        "test_indices = shuffled_indices[val_split_size:]\n",
        "\n",
        "# TODO: Select the examples from x and y to construct our training, validation, testing sets\n",
        "x_train, y_train = x[train_indices, :], y[train_indices]\n",
        "x_val, y_val = x[val_indices, :], y[val_indices]\n",
        "x_test, y_test = x[test_indices, :], y[test_indices]\n",
        "\n",
        "# TODO: Print the number of samples in training, validation and testing sets\n",
        "print('Number of samples in dataset: {}'.format(x.shape[0]))\n",
        "print('Number of training samples: {}'.format(x_train.shape[0]))\n",
        "print('Number of validation samples: {}'.format(x_val.shape[0]))\n",
        "print('Number of testing samples: {}'.format(x_test.shape[0]))"
      ],
      "metadata": {
        "colab": {
          "base_uri": "https://localhost:8080/"
        },
        "id": "ZYV_5EGeEvKy",
        "outputId": "ce095b3a-5ebb-46c7-dc6c-56c69fd93f8f"
      },
      "execution_count": 12,
      "outputs": [
        {
          "output_type": "stream",
          "name": "stdout",
          "text": [
            "Number of samples in dataset: 569\n",
            "Number of training samples: 455\n",
            "Number of validation samples: 57\n",
            "Number of testing samples: 57\n"
          ]
        }
      ]
    },
    {
      "cell_type": "markdown",
      "source": [
        "Implementing training and validation loop"
      ],
      "metadata": {
        "id": "Gcb2TArNKvf1"
      }
    },
    {
      "cell_type": "code",
      "source": [
        "def mean_accuracy(predictions, ground_truths):\n",
        "    '''\n",
        "    Computes the mean accuracy between predictions and ground truths\n",
        "\n",
        "    Arg(s):\n",
        "        predictions : numpy[int64]\n",
        "            predictions (y_hat)\n",
        "        ground_truths : numpy[int64]\n",
        "            groundtruth labels (y)\n",
        "    Returns:\n",
        "        float : mean accuracy score\n",
        "    '''\n",
        "\n",
        "    # TODO: Implement mean accuracy\n",
        "    accuracy = np.where(predictions == ground_truths, 1, 0)\n",
        "    mean_accuracy = 100 * np.mean(accuracy)\n",
        "\n",
        "    return mean_accuracy"
      ],
      "metadata": {
        "id": "7FYhX9G7unRw"
      },
      "execution_count": 13,
      "outputs": []
    },
    {
      "cell_type": "code",
      "source": [
        "# Define a list to store perceptron models\n",
        "models = []\n",
        "\n",
        "# Define a list of max iterations\n",
        "max_iterations = [1, 2, 3, 4]\n",
        "\n",
        "# Define a list to store training losses and validation accuracy scores\n",
        "losses_train = []\n",
        "mean_accuracies_val = []\n",
        "\n",
        "for max_iter in max_iterations:\n",
        "\n",
        "    '''\n",
        "    Training the perceptron model\n",
        "    '''\n",
        "    # TODO: Set up our Perceptron model\n",
        "    # max_iter is the maximum iterations through the data for training the perceptron\n",
        "    # penalty and alpha relates to regularization (which we haven’t covered so ignore them)\n",
        "    model = Perceptron(penalty=None, alpha=0.0, max_iter=max_iter)\n",
        "\n",
        "    # TODO: Train our perceptron model on the training set using fit function\n",
        "    model.fit(x_train, y_train)\n",
        "\n",
        "    # TODO: Store model into list of models\n",
        "    models.append(model)\n",
        "\n",
        "     # TODO: Make predictions on the training set using the predict function\n",
        "    y_hat_train = model.predict(x_train)\n",
        "\n",
        "    # TODO: Compute the loss on the training set\n",
        "    scores_train = np.where(y_hat_train != y_train, 1, 0)\n",
        "    loss_train = np.mean(scores_train)\n",
        "\n",
        "    # TODO: Store the loss into our list of losses\n",
        "    losses_train.append(loss_train)\n",
        "\n",
        "    '''\n",
        "    Validate our perceptron model on the validation set\n",
        "    '''\n",
        "    # TODO: Make predictions on the validation set using the predict function\n",
        "    y_hat_val = model.predict(x_val)\n",
        "\n",
        "    # TODO: Compute the accuracy on the validation set\n",
        "    # Note that we will be using this again in the test set, please refactor this into the mean_accuracy function above\n",
        "    # and call that instead for both\n",
        "    accuracy_val = np.where(y_hat_val == y_val, 1, 0)\n",
        "    mean_accuracy_val = np.mean(accuracy_val)\n",
        "\n",
        "    # TODO: Store the score into our list of validation mean accuracies\n",
        "    mean_accuracies_val.append(mean_accuracy_val)\n",
        "\n",
        "    print('Max training iterations: {}'.format(max_iter))\n",
        "    print('Training loss: {:0.5f}  Validation accuracy: {:0.2f}%'.format(loss_train, 100 * mean_accuracy_val))\n",
        "\n",
        "# TODO: Choose the best model based on highest validation accuracy\n",
        "best_model_idx = np.argmax(mean_accuracies_val)\n",
        "best_model = models[best_model_idx]"
      ],
      "metadata": {
        "id": "yB29ajtrK8sQ",
        "colab": {
          "base_uri": "https://localhost:8080/"
        },
        "outputId": "96ee539e-69bb-451c-ad7f-2d74279b51e2"
      },
      "execution_count": 14,
      "outputs": [
        {
          "output_type": "stream",
          "name": "stdout",
          "text": [
            "Max training iterations: 1\n",
            "Training loss: 0.34725  Validation accuracy: 71.93%\n",
            "Max training iterations: 2\n",
            "Training loss: 0.24396  Validation accuracy: 85.96%\n",
            "Max training iterations: 3\n",
            "Training loss: 0.10110  Validation accuracy: 96.49%\n",
            "Max training iterations: 4\n",
            "Training loss: 0.46813  Validation accuracy: 61.40%\n"
          ]
        }
      ]
    },
    {
      "cell_type": "markdown",
      "source": [
        "Testing our model"
      ],
      "metadata": {
        "id": "dSApmaTZtlp6"
      }
    },
    {
      "cell_type": "code",
      "source": [
        "# TODO: Make predictions on the testing set using our best model\n",
        "y_hat_test = best_model.predict(x_test)\n",
        "\n",
        "# TODO: Compute the accuracy on the testing set\n",
        "accuracy_test = np.where(y_hat_test == y_test, 1, 0)\n",
        "mean_accuracy_test = np.mean(accuracy_test)\n",
        "\n",
        "print('Test accuracy: {:0.2f}%'.format(100 * mean_accuracy_test))"
      ],
      "metadata": {
        "colab": {
          "base_uri": "https://localhost:8080/"
        },
        "id": "KsdZWwJMtlFS",
        "outputId": "f76cd44b-0e7f-4a72-c80d-860eb341ef65"
      },
      "execution_count": 15,
      "outputs": [
        {
          "output_type": "stream",
          "name": "stdout",
          "text": [
            "Test accuracy: 92.98%\n"
          ]
        }
      ]
    }
  ]
}